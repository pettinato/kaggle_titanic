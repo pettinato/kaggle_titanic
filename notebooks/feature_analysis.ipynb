{
 "cells": [
  {
   "cell_type": "code",
   "execution_count": 1,
   "metadata": {
    "collapsed": false
   },
   "outputs": [
    {
     "name": "stdout",
     "output_type": "stream",
     "text": [
      "env: OMP_NUM_THREADS=2\n"
     ]
    }
   ],
   "source": [
    "import numpy as np\n",
    "import pandas as pd\n",
    "import re\n",
    "import os\n",
    "from pandas.plotting import scatter_matrix\n",
    "\n",
    "get_ipython().magic(u'env OMP_NUM_THREADS=2')\n",
    "\n",
    "from IPython.display import display, HTML\n",
    "\n",
    "%matplotlib inline\n",
    "import matplotlib.pyplot as plt\n",
    "\n",
    "#get_ipython().magic(u'matplotlib')\n",
    "#get_ipython().magic(u'matplotlib inline')\n",
    "\n",
    "# Set the ransom seed used for the whole program to allow reprocibility\n",
    "np.random.seed(3214412)\n",
    "\n",
    "from scipy.stats import pearsonr\n",
    "\n",
    "from sklearn.feature_selection import f_regression, mutual_info_regression"
   ]
  },
  {
   "cell_type": "code",
   "execution_count": 2,
   "metadata": {
    "collapsed": true
   },
   "outputs": [],
   "source": [
    "data_dir = '../data/processed'\n",
    "feature_filename = os.path.join(data_dir, 'feature_set.csv')"
   ]
  },
  {
   "cell_type": "code",
   "execution_count": 3,
   "metadata": {
    "collapsed": false
   },
   "outputs": [
    {
     "data": {
      "text/html": [
       "<div>\n",
       "<style>\n",
       "    .dataframe thead tr:only-child th {\n",
       "        text-align: right;\n",
       "    }\n",
       "\n",
       "    .dataframe thead th {\n",
       "        text-align: left;\n",
       "    }\n",
       "\n",
       "    .dataframe tbody tr th {\n",
       "        vertical-align: top;\n",
       "    }\n",
       "</style>\n",
       "<table border=\"1\" class=\"dataframe\">\n",
       "  <thead>\n",
       "    <tr style=\"text-align: right;\">\n",
       "      <th></th>\n",
       "      <th>Survived</th>\n",
       "      <th>Sex</th>\n",
       "      <th>Fare</th>\n",
       "      <th>Pclass_1</th>\n",
       "      <th>Pclass_2</th>\n",
       "      <th>Pclass_3</th>\n",
       "      <th>Embarked_C</th>\n",
       "      <th>Embarked_Q</th>\n",
       "      <th>Embarked_S</th>\n",
       "      <th>Cabin_nan</th>\n",
       "      <th>Cabin_B</th>\n",
       "      <th>Cabin_C</th>\n",
       "      <th>Cabin_D</th>\n",
       "      <th>Cabin_E</th>\n",
       "    </tr>\n",
       "  </thead>\n",
       "  <tbody>\n",
       "    <tr>\n",
       "      <th>0</th>\n",
       "      <td>0</td>\n",
       "      <td>1</td>\n",
       "      <td>7.2500</td>\n",
       "      <td>0</td>\n",
       "      <td>0</td>\n",
       "      <td>1</td>\n",
       "      <td>0</td>\n",
       "      <td>0</td>\n",
       "      <td>1</td>\n",
       "      <td>1</td>\n",
       "      <td>0</td>\n",
       "      <td>0</td>\n",
       "      <td>0</td>\n",
       "      <td>0</td>\n",
       "    </tr>\n",
       "    <tr>\n",
       "      <th>1</th>\n",
       "      <td>1</td>\n",
       "      <td>0</td>\n",
       "      <td>71.2833</td>\n",
       "      <td>1</td>\n",
       "      <td>0</td>\n",
       "      <td>0</td>\n",
       "      <td>1</td>\n",
       "      <td>0</td>\n",
       "      <td>0</td>\n",
       "      <td>0</td>\n",
       "      <td>0</td>\n",
       "      <td>1</td>\n",
       "      <td>0</td>\n",
       "      <td>0</td>\n",
       "    </tr>\n",
       "    <tr>\n",
       "      <th>2</th>\n",
       "      <td>1</td>\n",
       "      <td>0</td>\n",
       "      <td>7.9250</td>\n",
       "      <td>0</td>\n",
       "      <td>0</td>\n",
       "      <td>1</td>\n",
       "      <td>0</td>\n",
       "      <td>0</td>\n",
       "      <td>1</td>\n",
       "      <td>1</td>\n",
       "      <td>0</td>\n",
       "      <td>0</td>\n",
       "      <td>0</td>\n",
       "      <td>0</td>\n",
       "    </tr>\n",
       "    <tr>\n",
       "      <th>3</th>\n",
       "      <td>1</td>\n",
       "      <td>0</td>\n",
       "      <td>53.1000</td>\n",
       "      <td>1</td>\n",
       "      <td>0</td>\n",
       "      <td>0</td>\n",
       "      <td>0</td>\n",
       "      <td>0</td>\n",
       "      <td>1</td>\n",
       "      <td>0</td>\n",
       "      <td>0</td>\n",
       "      <td>1</td>\n",
       "      <td>0</td>\n",
       "      <td>0</td>\n",
       "    </tr>\n",
       "    <tr>\n",
       "      <th>4</th>\n",
       "      <td>0</td>\n",
       "      <td>1</td>\n",
       "      <td>8.0500</td>\n",
       "      <td>0</td>\n",
       "      <td>0</td>\n",
       "      <td>1</td>\n",
       "      <td>0</td>\n",
       "      <td>0</td>\n",
       "      <td>1</td>\n",
       "      <td>1</td>\n",
       "      <td>0</td>\n",
       "      <td>0</td>\n",
       "      <td>0</td>\n",
       "      <td>0</td>\n",
       "    </tr>\n",
       "  </tbody>\n",
       "</table>\n",
       "</div>"
      ],
      "text/plain": [
       "   Survived  Sex     Fare  Pclass_1  Pclass_2  Pclass_3  Embarked_C  \\\n",
       "0         0    1   7.2500         0         0         1           0   \n",
       "1         1    0  71.2833         1         0         0           1   \n",
       "2         1    0   7.9250         0         0         1           0   \n",
       "3         1    0  53.1000         1         0         0           0   \n",
       "4         0    1   8.0500         0         0         1           0   \n",
       "\n",
       "   Embarked_Q  Embarked_S  Cabin_nan  Cabin_B  Cabin_C  Cabin_D  Cabin_E  \n",
       "0           0           1          1        0        0        0        0  \n",
       "1           0           0          0        0        1        0        0  \n",
       "2           0           1          1        0        0        0        0  \n",
       "3           0           1          0        0        1        0        0  \n",
       "4           0           1          1        0        0        0        0  "
      ]
     },
     "execution_count": 3,
     "metadata": {},
     "output_type": "execute_result"
    }
   ],
   "source": [
    "feature_df = pd.read_csv(feature_filename)\n",
    "feature_df.head()"
   ]
  },
  {
   "cell_type": "code",
   "execution_count": 4,
   "metadata": {
    "collapsed": true
   },
   "outputs": [],
   "source": [
    "ind_df = feature_df.drop(labels='Survived', axis=1)\n",
    "dep_df = feature_df.Survived"
   ]
  },
  {
   "cell_type": "markdown",
   "metadata": {},
   "source": [
    "# Feature Selection"
   ]
  },
  {
   "cell_type": "code",
   "execution_count": 39,
   "metadata": {
    "collapsed": true
   },
   "outputs": [],
   "source": [
    "def sort_desc_print(tuple_list):\n",
    "    s_list = sorted([(feature, score) for feature, score in tuple_list], key=lambda tup: tup[1], reverse=True)\n",
    "    print('\\n'.join(map(lambda v: v[0] + ': ' + str(v[1]), s_list)))"
   ]
  },
  {
   "cell_type": "markdown",
   "metadata": {},
   "source": [
    "## Pearson Correlation"
   ]
  },
  {
   "cell_type": "code",
   "execution_count": 70,
   "metadata": {
    "collapsed": false
   },
   "outputs": [
    {
     "name": "stdout",
     "output_type": "stream",
     "text": [
      "Sex: 372.405723602\n",
      "Pclass_3: 103.057599394\n",
      "Cabin_nan: 99.2531423426\n",
      "Pclass_1: 79.1364033091\n",
      "Fare: 63.030764228\n",
      "Cabin_B: 28.1172283504\n",
      "Embarked_C: 25.8959869956\n",
      "Embarked_S: 22.0754685855\n",
      "Cabin_D: 20.6631861322\n",
      "Cabin_E: 20.6631861322\n",
      "Cabin_C: 11.8416605341\n",
      "Pclass_2: 7.8148047228\n",
      "Embarked_Q: 0.0118463439904\n"
     ]
    }
   ],
   "source": [
    "f_test, p_value = f_regression(ind_df, dep_df)\n",
    "sort_desc_print(zip(ind_df.columns, f_test))"
   ]
  },
  {
   "cell_type": "markdown",
   "metadata": {},
   "source": [
    "## Mutual Information (MIC)"
   ]
  },
  {
   "cell_type": "code",
   "execution_count": 7,
   "metadata": {
    "collapsed": false
   },
   "outputs": [
    {
     "name": "stdout",
     "output_type": "stream",
     "text": [
      "Sex: 1.0\n",
      "Fare: 0.813183007255\n",
      "Cabin_nan: 0.652875428308\n",
      "Pclass_3: 0.306936307782\n",
      "Pclass_1: 0.291382846285\n",
      "Cabin_D: 0.239848945013\n",
      "Cabin_C: 0.172495119254\n",
      "Cabin_B: 0.14044352665\n",
      "Pclass_2: 0.0661308728842\n",
      "Cabin_E: 0.0403480347598\n",
      "Embarked_Q: 0.0129620396289\n",
      "Embarked_C: 0.0\n",
      "Embarked_S: 0.0\n"
     ]
    },
    {
     "name": "stderr",
     "output_type": "stream",
     "text": [
      "/home/napoleon/.virtualenvs/kaggle_titanic/lib/python3.5/site-packages/sklearn/utils/validation.py:475: DataConversionWarning: Data with input dtype int64 was converted to float64 by the scale function.\n",
      "  warnings.warn(msg, DataConversionWarning)\n"
     ]
    }
   ],
   "source": [
    "mi = mutual_info_regression(ind_df, dep_df)\n",
    "mi /= np.max(mi)\n",
    "sort_desc_print(zip(ind_df.columns, mi))"
   ]
  },
  {
   "cell_type": "markdown",
   "metadata": {},
   "source": [
    "## Random Forests"
   ]
  },
  {
   "cell_type": "code",
   "execution_count": 8,
   "metadata": {
    "collapsed": false
   },
   "outputs": [
    {
     "name": "stdout",
     "output_type": "stream",
     "text": [
      "Fare: 0.401696507844\n",
      "Sex: 0.368575265298\n",
      "Pclass_3: 0.100095863165\n",
      "Cabin_nan: 0.0395412781757\n",
      "Embarked_S: 0.0210514895722\n",
      "Embarked_C: 0.0163977530968\n",
      "Cabin_E: 0.0101863231028\n",
      "Cabin_C: 0.00966006947128\n",
      "Pclass_1: 0.00720195636071\n",
      "Pclass_2: 0.00705191613979\n",
      "Embarked_Q: 0.00697178649388\n",
      "Cabin_D: 0.00590087636242\n",
      "Cabin_B: 0.00566891491751\n"
     ]
    }
   ],
   "source": [
    "from sklearn.ensemble import RandomForestRegressor\n",
    "model = RandomForestRegressor(n_estimators=1000, max_depth=100, n_jobs=4)\n",
    "model.fit(ind_df, dep_df)\n",
    "sort_desc_print(zip(ind_df.columns, model.feature_importances_))"
   ]
  },
  {
   "cell_type": "markdown",
   "metadata": {},
   "source": [
    "## Look for Collinearity"
   ]
  },
  {
   "cell_type": "code",
   "execution_count": 23,
   "metadata": {
    "collapsed": false
   },
   "outputs": [
    {
     "data": {
      "image/png": "[encoded data removed]",
      "text/plain": [
       "<matplotlib.figure.Figure at 0x7fe095ecfcf8>"
      ]
     },
     "metadata": {},
     "output_type": "display_data"
    }
   ],
   "source": [
    "import seaborn as sns\n",
    "%matplotlib inline\n",
    "\n",
    "# calculate the correlation matrix\n",
    "corr = ind_df.corr()\n",
    "\n",
    "# plot the heatmap\n",
    "fig, ax = plt.subplots()\n",
    "# the size of A4 paper\n",
    "fig.set_size_inches(11.7, 8.27)\n",
    "sns.heatmap(corr, \n",
    "        xticklabels=corr.columns,\n",
    "        yticklabels=corr.columns,\n",
    "        ax=ax)\n",
    "sns.despine()"
   ]
  },
  {
   "cell_type": "code",
   "execution_count": 28,
   "metadata": {
    "collapsed": false
   },
   "outputs": [],
   "source": [
    "corr_df = ind_df.corr()"
   ]
  },
  {
   "cell_type": "code",
   "execution_count": 67,
   "metadata": {
    "collapsed": false,
    "scrolled": true
   },
   "outputs": [
    {
     "name": "stdout",
     "output_type": "stream",
     "text": [
      "Fare:Pclass_1: 0.591710718884\n",
      "Pclass_3:Cabin_nan: 0.539290725364\n",
      "Pclass_2:Pclass_3: -0.565210153554\n",
      "Pclass_1:Pclass_3: -0.62673758464\n",
      "Embarked_C:Embarked_S: -0.778358996113\n",
      "Pclass_1:Cabin_nan: -0.788773006897\n"
     ]
    }
   ],
   "source": [
    "import itertools\n",
    "corr_tups = dict()\n",
    "\n",
    "for colA, colB in itertools.product(corr_df.columns, corr_df.index):\n",
    "    if colA == colB or (colA, colB) in corr_tups or (colB, colA) in corr_tups:\n",
    "        continue\n",
    "    corr_tups[(colA, colB)] = corr_df.loc[colA, colB]\n",
    "\n",
    "sort_desc_print([(':'.join(key), val) for key, val in corr_tups.items() if abs(val) > 0.5])"
   ]
  },
  {
   "cell_type": "markdown",
   "metadata": {},
   "source": [
    "### Notes on Collinearity\n",
    "* The Pclass_1 would cost a lot, so there would be a correlation between the Fare and the Pclass 1.\n",
    "* The Pclass_3 passengers don't get cabins, so Cabin_nan is a logical correlation\n",
    "* Can't be both Pclass_1 and Pclass_3, so these are obviously logically correllated.\n",
    "* Pclass_1 and Cabin_nan are negatively correlated because if the passenger have a first class ticket, then obviously the passenger has an assigned cabin."
   ]
  },
  {
   "cell_type": "markdown",
   "metadata": {},
   "source": [
    "### Remove the following features\n",
    "* Pclass_2\n",
    "   * This feature is the only feature that has a high correlation with another feature, but does not score highly on the feature selection measurements."
   ]
  },
  {
   "cell_type": "code",
   "execution_count": null,
   "metadata": {
    "collapsed": true
   },
   "outputs": [],
   "source": []
  }
 ],
 "metadata": {
  "kernelspec": {
   "display_name": "kaggle_titanic",
   "language": "python",
   "name": "kaggle_titanic"
  },
  "language_info": {
   "codemirror_mode": {
    "name": "ipython",
    "version": 3
   },
   "file_extension": ".py",
   "mimetype": "text/x-python",
   "name": "python",
   "nbconvert_exporter": "python",
   "pygments_lexer": "ipython3",
   "version": "3.5.2"
  }
 },
 "nbformat": 4,
 "nbformat_minor": 2
}
