{
 "cells": [
  {
   "cell_type": "code",
   "execution_count": 93,
   "metadata": {
    "collapsed": false
   },
   "outputs": [
    {
     "name": "stdout",
     "output_type": "stream",
     "text": [
      "env: OMP_NUM_THREADS=2\n"
     ]
    }
   ],
   "source": [
    "import numpy as np\n",
    "import pandas as pd\n",
    "import re\n",
    "import os\n",
    "from pandas.plotting import scatter_matrix\n",
    "\n",
    "get_ipython().magic(u'env OMP_NUM_THREADS=2')\n",
    "\n",
    "from IPython.display import display, HTML\n",
    "\n",
    "%matplotlib inline\n",
    "import matplotlib.pyplot as plt\n",
    "\n",
    "#get_ipython().magic(u'matplotlib')\n",
    "#get_ipython().magic(u'matplotlib inline')\n",
    "\n",
    "# Set the ransom seed used for the whole program to allow reprocibility\n",
    "np.random.seed(3214412)\n",
    "\n",
    "from scipy.stats import pearsonr"
   ]
  },
  {
   "cell_type": "code",
   "execution_count": 83,
   "metadata": {
    "collapsed": false
   },
   "outputs": [],
   "source": [
    "data_dir = '../data/raw'\n",
    "train_filename = os.path.join(data_dir, 'train.csv')"
   ]
  },
  {
   "cell_type": "code",
   "execution_count": 84,
   "metadata": {
    "collapsed": true
   },
   "outputs": [],
   "source": [
    "train_df = pd.read_csv(train_filename)"
   ]
  },
  {
   "cell_type": "markdown",
   "metadata": {},
   "source": [
    "# Training set"
   ]
  },
  {
   "cell_type": "code",
   "execution_count": 85,
   "metadata": {
    "collapsed": false
   },
   "outputs": [
    {
     "data": {
      "text/html": [
       "<div>\n",
       "<style>\n",
       "    .dataframe thead tr:only-child th {\n",
       "        text-align: right;\n",
       "    }\n",
       "\n",
       "    .dataframe thead th {\n",
       "        text-align: left;\n",
       "    }\n",
       "\n",
       "    .dataframe tbody tr th {\n",
       "        vertical-align: top;\n",
       "    }\n",
       "</style>\n",
       "<table border=\"1\" class=\"dataframe\">\n",
       "  <thead>\n",
       "    <tr style=\"text-align: right;\">\n",
       "      <th></th>\n",
       "      <th>PassengerId</th>\n",
       "      <th>Survived</th>\n",
       "      <th>Pclass</th>\n",
       "      <th>Name</th>\n",
       "      <th>Sex</th>\n",
       "      <th>Age</th>\n",
       "      <th>SibSp</th>\n",
       "      <th>Parch</th>\n",
       "      <th>Ticket</th>\n",
       "      <th>Fare</th>\n",
       "      <th>Cabin</th>\n",
       "      <th>Embarked</th>\n",
       "    </tr>\n",
       "  </thead>\n",
       "  <tbody>\n",
       "    <tr>\n",
       "      <th>0</th>\n",
       "      <td>1</td>\n",
       "      <td>0</td>\n",
       "      <td>3</td>\n",
       "      <td>Braund, Mr. Owen Harris</td>\n",
       "      <td>male</td>\n",
       "      <td>22.0</td>\n",
       "      <td>1</td>\n",
       "      <td>0</td>\n",
       "      <td>A/5 21171</td>\n",
       "      <td>7.2500</td>\n",
       "      <td>NaN</td>\n",
       "      <td>S</td>\n",
       "    </tr>\n",
       "    <tr>\n",
       "      <th>1</th>\n",
       "      <td>2</td>\n",
       "      <td>1</td>\n",
       "      <td>1</td>\n",
       "      <td>Cumings, Mrs. John Bradley (Florence Briggs Th...</td>\n",
       "      <td>female</td>\n",
       "      <td>38.0</td>\n",
       "      <td>1</td>\n",
       "      <td>0</td>\n",
       "      <td>PC 17599</td>\n",
       "      <td>71.2833</td>\n",
       "      <td>C85</td>\n",
       "      <td>C</td>\n",
       "    </tr>\n",
       "    <tr>\n",
       "      <th>2</th>\n",
       "      <td>3</td>\n",
       "      <td>1</td>\n",
       "      <td>3</td>\n",
       "      <td>Heikkinen, Miss. Laina</td>\n",
       "      <td>female</td>\n",
       "      <td>26.0</td>\n",
       "      <td>0</td>\n",
       "      <td>0</td>\n",
       "      <td>STON/O2. 3101282</td>\n",
       "      <td>7.9250</td>\n",
       "      <td>NaN</td>\n",
       "      <td>S</td>\n",
       "    </tr>\n",
       "    <tr>\n",
       "      <th>3</th>\n",
       "      <td>4</td>\n",
       "      <td>1</td>\n",
       "      <td>1</td>\n",
       "      <td>Futrelle, Mrs. Jacques Heath (Lily May Peel)</td>\n",
       "      <td>female</td>\n",
       "      <td>35.0</td>\n",
       "      <td>1</td>\n",
       "      <td>0</td>\n",
       "      <td>113803</td>\n",
       "      <td>53.1000</td>\n",
       "      <td>C123</td>\n",
       "      <td>S</td>\n",
       "    </tr>\n",
       "    <tr>\n",
       "      <th>4</th>\n",
       "      <td>5</td>\n",
       "      <td>0</td>\n",
       "      <td>3</td>\n",
       "      <td>Allen, Mr. William Henry</td>\n",
       "      <td>male</td>\n",
       "      <td>35.0</td>\n",
       "      <td>0</td>\n",
       "      <td>0</td>\n",
       "      <td>373450</td>\n",
       "      <td>8.0500</td>\n",
       "      <td>NaN</td>\n",
       "      <td>S</td>\n",
       "    </tr>\n",
       "  </tbody>\n",
       "</table>\n",
       "</div>"
      ],
      "text/plain": [
       "   PassengerId  Survived  Pclass  \\\n",
       "0            1         0       3   \n",
       "1            2         1       1   \n",
       "2            3         1       3   \n",
       "3            4         1       1   \n",
       "4            5         0       3   \n",
       "\n",
       "                                                Name     Sex   Age  SibSp  \\\n",
       "0                            Braund, Mr. Owen Harris    male  22.0      1   \n",
       "1  Cumings, Mrs. John Bradley (Florence Briggs Th...  female  38.0      1   \n",
       "2                             Heikkinen, Miss. Laina  female  26.0      0   \n",
       "3       Futrelle, Mrs. Jacques Heath (Lily May Peel)  female  35.0      1   \n",
       "4                           Allen, Mr. William Henry    male  35.0      0   \n",
       "\n",
       "   Parch            Ticket     Fare Cabin Embarked  \n",
       "0      0         A/5 21171   7.2500   NaN        S  \n",
       "1      0          PC 17599  71.2833   C85        C  \n",
       "2      0  STON/O2. 3101282   7.9250   NaN        S  \n",
       "3      0            113803  53.1000  C123        S  \n",
       "4      0            373450   8.0500   NaN        S  "
      ]
     },
     "execution_count": 85,
     "metadata": {},
     "output_type": "execute_result"
    }
   ],
   "source": [
    "train_df.head()"
   ]
  },
  {
   "cell_type": "code",
   "execution_count": 86,
   "metadata": {
    "collapsed": false
   },
   "outputs": [
    {
     "data": {
      "text/html": [
       "<div>\n",
       "<style>\n",
       "    .dataframe thead tr:only-child th {\n",
       "        text-align: right;\n",
       "    }\n",
       "\n",
       "    .dataframe thead th {\n",
       "        text-align: left;\n",
       "    }\n",
       "\n",
       "    .dataframe tbody tr th {\n",
       "        vertical-align: top;\n",
       "    }\n",
       "</style>\n",
       "<table border=\"1\" class=\"dataframe\">\n",
       "  <thead>\n",
       "    <tr style=\"text-align: right;\">\n",
       "      <th></th>\n",
       "      <th>PassengerId</th>\n",
       "      <th>Survived</th>\n",
       "      <th>Pclass</th>\n",
       "      <th>Age</th>\n",
       "      <th>SibSp</th>\n",
       "      <th>Parch</th>\n",
       "      <th>Fare</th>\n",
       "    </tr>\n",
       "  </thead>\n",
       "  <tbody>\n",
       "    <tr>\n",
       "      <th>count</th>\n",
       "      <td>891.000000</td>\n",
       "      <td>891.000000</td>\n",
       "      <td>891.000000</td>\n",
       "      <td>714.000000</td>\n",
       "      <td>891.000000</td>\n",
       "      <td>891.000000</td>\n",
       "      <td>891.000000</td>\n",
       "    </tr>\n",
       "    <tr>\n",
       "      <th>mean</th>\n",
       "      <td>446.000000</td>\n",
       "      <td>0.383838</td>\n",
       "      <td>2.308642</td>\n",
       "      <td>29.699118</td>\n",
       "      <td>0.523008</td>\n",
       "      <td>0.381594</td>\n",
       "      <td>32.204208</td>\n",
       "    </tr>\n",
       "    <tr>\n",
       "      <th>std</th>\n",
       "      <td>257.353842</td>\n",
       "      <td>0.486592</td>\n",
       "      <td>0.836071</td>\n",
       "      <td>14.526497</td>\n",
       "      <td>1.102743</td>\n",
       "      <td>0.806057</td>\n",
       "      <td>49.693429</td>\n",
       "    </tr>\n",
       "    <tr>\n",
       "      <th>min</th>\n",
       "      <td>1.000000</td>\n",
       "      <td>0.000000</td>\n",
       "      <td>1.000000</td>\n",
       "      <td>0.420000</td>\n",
       "      <td>0.000000</td>\n",
       "      <td>0.000000</td>\n",
       "      <td>0.000000</td>\n",
       "    </tr>\n",
       "    <tr>\n",
       "      <th>25%</th>\n",
       "      <td>223.500000</td>\n",
       "      <td>0.000000</td>\n",
       "      <td>2.000000</td>\n",
       "      <td>20.125000</td>\n",
       "      <td>0.000000</td>\n",
       "      <td>0.000000</td>\n",
       "      <td>7.910400</td>\n",
       "    </tr>\n",
       "    <tr>\n",
       "      <th>50%</th>\n",
       "      <td>446.000000</td>\n",
       "      <td>0.000000</td>\n",
       "      <td>3.000000</td>\n",
       "      <td>28.000000</td>\n",
       "      <td>0.000000</td>\n",
       "      <td>0.000000</td>\n",
       "      <td>14.454200</td>\n",
       "    </tr>\n",
       "    <tr>\n",
       "      <th>75%</th>\n",
       "      <td>668.500000</td>\n",
       "      <td>1.000000</td>\n",
       "      <td>3.000000</td>\n",
       "      <td>38.000000</td>\n",
       "      <td>1.000000</td>\n",
       "      <td>0.000000</td>\n",
       "      <td>31.000000</td>\n",
       "    </tr>\n",
       "    <tr>\n",
       "      <th>max</th>\n",
       "      <td>891.000000</td>\n",
       "      <td>1.000000</td>\n",
       "      <td>3.000000</td>\n",
       "      <td>80.000000</td>\n",
       "      <td>8.000000</td>\n",
       "      <td>6.000000</td>\n",
       "      <td>512.329200</td>\n",
       "    </tr>\n",
       "  </tbody>\n",
       "</table>\n",
       "</div>"
      ],
      "text/plain": [
       "       PassengerId    Survived      Pclass         Age       SibSp  \\\n",
       "count   891.000000  891.000000  891.000000  714.000000  891.000000   \n",
       "mean    446.000000    0.383838    2.308642   29.699118    0.523008   \n",
       "std     257.353842    0.486592    0.836071   14.526497    1.102743   \n",
       "min       1.000000    0.000000    1.000000    0.420000    0.000000   \n",
       "25%     223.500000    0.000000    2.000000   20.125000    0.000000   \n",
       "50%     446.000000    0.000000    3.000000   28.000000    0.000000   \n",
       "75%     668.500000    1.000000    3.000000   38.000000    1.000000   \n",
       "max     891.000000    1.000000    3.000000   80.000000    8.000000   \n",
       "\n",
       "            Parch        Fare  \n",
       "count  891.000000  891.000000  \n",
       "mean     0.381594   32.204208  \n",
       "std      0.806057   49.693429  \n",
       "min      0.000000    0.000000  \n",
       "25%      0.000000    7.910400  \n",
       "50%      0.000000   14.454200  \n",
       "75%      0.000000   31.000000  \n",
       "max      6.000000  512.329200  "
      ]
     },
     "execution_count": 86,
     "metadata": {},
     "output_type": "execute_result"
    }
   ],
   "source": [
    "train_df.describe()"
   ]
  },
  {
   "cell_type": "code",
   "execution_count": 87,
   "metadata": {
    "collapsed": false
   },
   "outputs": [
    {
     "data": {
      "text/plain": [
       "Index([u'PassengerId', u'Survived', u'Pclass', u'Name', u'Sex', u'Age',\n",
       "       u'SibSp', u'Parch', u'Ticket', u'Fare', u'Cabin', u'Embarked'],\n",
       "      dtype='object')"
      ]
     },
     "execution_count": 87,
     "metadata": {},
     "output_type": "execute_result"
    }
   ],
   "source": [
    "train_df.columns"
   ]
  },
  {
   "cell_type": "markdown",
   "metadata": {},
   "source": [
    "# Column Analysis"
   ]
  },
  {
   "cell_type": "markdown",
   "metadata": {},
   "source": [
    "## PassengerId\n",
    "1 value per line as the id of the passenger."
   ]
  },
  {
   "cell_type": "code",
   "execution_count": 107,
   "metadata": {
    "collapsed": false
   },
   "outputs": [
    {
     "name": "stdout",
     "output_type": "stream",
     "text": [
      "Number of unique values: 891\n",
      "Correlation with Survived: -0.00500666076707\n",
      "Count of nans: 0\n"
     ]
    }
   ],
   "source": [
    "print('Number of unique values: {}'.format(train_df.PassengerId.nunique()))\n",
    "print('Correlation with Survived: {}'.format(pearsonr(train_df['Survived'], train_df.PassengerId)[0]))\n",
    "print('Count of nans: {}'.format(train_df.PassengerId.isnull().sum()))"
   ]
  },
  {
   "cell_type": "markdown",
   "metadata": {},
   "source": [
    "## Survived\n",
    "Dependent variable of 0 as deceased and 1 as survived"
   ]
  },
  {
   "cell_type": "code",
   "execution_count": 120,
   "metadata": {
    "collapsed": false
   },
   "outputs": [
    {
     "name": "stdout",
     "output_type": "stream",
     "text": [
      "Number of unique values: 2\n",
      "Count of each value\n",
      "0    549\n",
      "1    342\n",
      "Name: Survived, dtype: int64\n",
      "Count of nans: 0\n"
     ]
    }
   ],
   "source": [
    "print('Number of unique values: {}'.format(train_df.Survived.nunique()))\n",
    "print('Count of each value\\n{}'.format(train_df.Survived.value_counts()))\n",
    "print('Count of nans: {}'.format(train_df.Survived.isnull().sum()))"
   ]
  },
  {
   "cell_type": "markdown",
   "metadata": {},
   "source": [
    "## Pclass\n",
    "3 class of passengers.  \n",
    "\n",
    "The lower the class, the more likely the person died."
   ]
  },
  {
   "cell_type": "code",
   "execution_count": 121,
   "metadata": {
    "collapsed": false
   },
   "outputs": [
    {
     "name": "stdout",
     "output_type": "stream",
     "text": [
      "Number of unique values: 3\n",
      "Correlation with Survived: -0.338481035961\n",
      "Count of each value\n",
      "3    491\n",
      "1    216\n",
      "2    184\n",
      "Name: Pclass, dtype: int64\n",
      "Count of nans: 0\n"
     ]
    }
   ],
   "source": [
    "print('Number of unique values: {}'.format(train_df.Pclass.nunique()))\n",
    "print('Correlation with Survived: {}'.format(pearsonr(train_df['Survived'], train_df.Pclass)[0]))\n",
    "print('Count of each value\\n{}'.format(train_df.Pclass.value_counts()))\n",
    "print('Count of nans: {}'.format(train_df.Pclass.isnull().sum()))"
   ]
  },
  {
   "cell_type": "markdown",
   "metadata": {},
   "source": [
    "## Name\n",
    "String names of passengers."
   ]
  },
  {
   "cell_type": "code",
   "execution_count": 122,
   "metadata": {
    "collapsed": false
   },
   "outputs": [
    {
     "name": "stdout",
     "output_type": "stream",
     "text": [
      "Number of unique values: 891\n",
      "First 5 values\n",
      "Braund, Mr. Owen Harris\n",
      "Cumings, Mrs. John Bradley (Florence Briggs Thayer)\n",
      "Heikkinen, Miss. Laina\n",
      "Futrelle, Mrs. Jacques Heath (Lily May Peel)\n",
      "Allen, Mr. William Henry\n",
      "Count of nans: 0\n"
     ]
    }
   ],
   "source": [
    "print('Number of unique values: {}'.format(train_df.Name.nunique()))\n",
    "print('First 5 values\\n{}'.format('\\n'.join(train_df.Name[:5])))\n",
    "print('Count of nans: {}'.format(train_df.Name.isnull().sum()))"
   ]
  },
  {
   "cell_type": "markdown",
   "metadata": {},
   "source": [
    "## Sex\n",
    "male or female.\n",
    "\n",
    "Males are more likely to perish."
   ]
  },
  {
   "cell_type": "code",
   "execution_count": 123,
   "metadata": {
    "collapsed": false
   },
   "outputs": [
    {
     "name": "stdout",
     "output_type": "stream",
     "text": [
      "Number of unique values: 2\n",
      "Correlation with Survived: -0.543351380658\n",
      "Count of each value\n",
      "male      577\n",
      "female    314\n",
      "Name: Sex, dtype: int64\n",
      "Count of nans: 0\n"
     ]
    }
   ],
   "source": [
    "print('Number of unique values: {}'.format(train_df.Sex.nunique()))\n",
    "print('Correlation with Survived: {}'.format(pearsonr(train_df['Survived'], train_df.Sex == 'male')[0]))\n",
    "print('Count of each value\\n{}'.format(train_df.Sex.value_counts()))\n",
    "print('Count of nans: {}'.format(train_df.Sex.isnull().sum()))"
   ]
  },
  {
   "cell_type": "markdown",
   "metadata": {},
   "source": [
    "## Age\n",
    "Has lots of null values, and is very wealkly correlated with Survival"
   ]
  },
  {
   "cell_type": "code",
   "execution_count": 192,
   "metadata": {
    "collapsed": false
   },
   "outputs": [
    {
     "name": "stdout",
     "output_type": "stream",
     "text": [
      "Number of unique values: 88\n",
      "Correlation with Survived: -0.0772210945722\n",
      "Null Age Correlation with Survived: -0.0921965232422\n",
      "Count of nans: 177\n"
     ]
    }
   ],
   "source": [
    "age_df = train_df[['Survived', 'Age']].dropna()  # use to calculate correlation\n",
    "print('Number of unique values: {}'.format(train_df.Age.nunique()))\n",
    "print('Correlation with Survived: {}'.format(pearsonr(age_df['Survived'], age_df.Age)[0]))\n",
    "print('Null Age Correlation with Survived: {}'.format(pearsonr(train_df['Survived'], train_df.Age.isnull())[0]))\n",
    "print('Count of nans: {}'.format(train_df.Age.isnull().sum()))"
   ]
  },
  {
   "cell_type": "code",
   "execution_count": 9,
   "metadata": {
    "collapsed": false
   },
   "outputs": [
    {
     "data": {
      "image/png": "[encoded data removed]",
      "text/plain": [
       "<matplotlib.figure.Figure at 0x7f7e821db9d0>"
      ]
     },
     "metadata": {},
     "output_type": "display_data"
    }
   ],
   "source": [
    "train_df.boxplot(column='Age');"
   ]
  },
  {
   "cell_type": "markdown",
   "metadata": {},
   "source": [
    "## SibSp\n",
    "Weakly correlated with Survival"
   ]
  },
  {
   "cell_type": "code",
   "execution_count": 126,
   "metadata": {
    "collapsed": false
   },
   "outputs": [
    {
     "name": "stdout",
     "output_type": "stream",
     "text": [
      "Number of unique values: 7\n",
      "Correlation with Survived: -0.0353224988857\n",
      "Count of each value\n",
      "0    608\n",
      "1    209\n",
      "2     28\n",
      "4     18\n",
      "3     16\n",
      "8      7\n",
      "5      5\n",
      "Name: SibSp, dtype: int64\n",
      "Count of nans: 0\n"
     ]
    }
   ],
   "source": [
    "print('Number of unique values: {}'.format(train_df.SibSp.nunique()))\n",
    "print('Correlation with Survived: {}'.format(pearsonr(train_df['Survived'], train_df.SibSp)[0]))\n",
    "print('Count of each value\\n{}'.format(train_df.SibSp.value_counts()))\n",
    "print('Count of nans: {}'.format(train_df.SibSp.isnull().sum()))"
   ]
  },
  {
   "cell_type": "markdown",
   "metadata": {},
   "source": [
    "## Parch\n",
    "Weakly Correlated with Survival"
   ]
  },
  {
   "cell_type": "code",
   "execution_count": 127,
   "metadata": {
    "collapsed": false
   },
   "outputs": [
    {
     "name": "stdout",
     "output_type": "stream",
     "text": [
      "Number of unique values: 7\n",
      "Correlation with Survived: 0.0816294070835\n",
      "Count of each value\n",
      "0    678\n",
      "1    118\n",
      "2     80\n",
      "5      5\n",
      "3      5\n",
      "4      4\n",
      "6      1\n",
      "Name: Parch, dtype: int64\n",
      "Count of nans: 0\n"
     ]
    }
   ],
   "source": [
    "print('Number of unique values: {}'.format(train_df.Parch.nunique()))\n",
    "print('Correlation with Survived: {}'.format(pearsonr(train_df['Survived'], train_df.Parch)[0]))\n",
    "print('Count of each value\\n{}'.format(train_df.Parch.value_counts()))\n",
    "print('Count of nans: {}'.format(train_df.Parch.isnull().sum()))"
   ]
  },
  {
   "cell_type": "markdown",
   "metadata": {},
   "source": [
    "## Ticket\n",
    "Needs some cleaning as the ticket numbers are mixed with strings.\n",
    "\n",
    "Weakly correlated with Survival"
   ]
  },
  {
   "cell_type": "code",
   "execution_count": 158,
   "metadata": {
    "collapsed": false
   },
   "outputs": [
    {
     "name": "stdout",
     "output_type": "stream",
     "text": [
      "Number of unique values: 681\n",
      "First 5 values\n",
      "A/5 21171\n",
      "PC 17599\n",
      "STON/O2. 3101282\n",
      "113803\n",
      "373450\n",
      "Count of nans: 4\n",
      "Correlation with Survived: -0.0963999044854\n"
     ]
    }
   ],
   "source": [
    "print('Number of unique values: {}'.format(train_df.Ticket.nunique()))\n",
    "print('First 5 values\\n{}'.format('\\n'.join(train_df.Ticket[:5])))\n",
    "ticket_df = pd.DataFrame.copy(train_df[['Survived', 'Ticket']])\n",
    "ticket_df.Ticket = ticket_df.Ticket.apply(lambda s: s.split(' ')[-1]).str.extract('(\\d+)', expand=False).astype(float)\n",
    "print('Count of nans: {}'.format(ticket_df.Ticket.isnull().sum()))\n",
    "ticket_df = ticket_df.dropna()\n",
    "print('Correlation with Survived: {}'.format(pearsonr(ticket_df['Survived'], ticket_df.Ticket)[0]))"
   ]
  },
  {
   "cell_type": "markdown",
   "metadata": {},
   "source": [
    "## Fare\n",
    "Somewhat correlated with Survival"
   ]
  },
  {
   "cell_type": "code",
   "execution_count": 161,
   "metadata": {
    "collapsed": false
   },
   "outputs": [
    {
     "name": "stdout",
     "output_type": "stream",
     "text": [
      "Number of unique values: 248\n",
      "Correlation with Survived: 0.257306522385\n",
      "Count of nans: 0\n"
     ]
    }
   ],
   "source": [
    "print('Number of unique values: {}'.format(train_df.Fare.nunique()))\n",
    "print('Correlation with Survived: {}'.format(pearsonr(train_df['Survived'], train_df.Fare)[0]))\n",
    "print('Count of nans: {}'.format(train_df.Fare.isnull().sum()))"
   ]
  },
  {
   "cell_type": "code",
   "execution_count": 10,
   "metadata": {
    "collapsed": false
   },
   "outputs": [
    {
     "data": {
      "image/png": "[encoded data removed]",
      "text/plain": [
       "<matplotlib.figure.Figure at 0x7f7e82142350>"
      ]
     },
     "metadata": {},
     "output_type": "display_data"
    }
   ],
   "source": [
    "train_df.boxplot(column='Fare');"
   ]
  },
  {
   "cell_type": "markdown",
   "metadata": {},
   "source": [
    "## Cabin\n",
    "Mostly this is null\n",
    "\n",
    "There are some indications of type of Cabin, A, B, C, D, E, F, G.  Could dummify it.\n",
    "\n",
    "There is a correlation between the null cabins and Survival.\n",
    "\n",
    "There is also some weak correlation between the B, C, D cabins and Survival.  Worth dummifying."
   ]
  },
  {
   "cell_type": "code",
   "execution_count": 187,
   "metadata": {
    "collapsed": false
   },
   "outputs": [
    {
     "name": "stdout",
     "output_type": "stream",
     "text": [
      "Number of unique values: 148\n",
      "First 5 values\n",
      "nan, C85, C123, E46, G6, C103, D56, A6, C23 C25 C27, B78, D33, B30, C52, B28, C83, F33, F G73, E31, A5, D10 D12, D26, C110, B58 B60, E101, F E69, D47, B86, F2, C2, E33, B19, A7, C49, F4, A32, B4, B80, A31, D36, D15, C93, C78, D35, C87, B77, E67, B94, C125, C99, C118, D7, A19, B49, D, C22 C26, C106, C65, E36, C54, B57 B59 B63 B66, C7, E34, C32, B18, C124, C91, E40, T, C128, D37, B35, E50, C82, B96 B98, E10, E44, A34, C104, C111, C92, E38, D21, E12, E63, A14, B37, C30, D20, B79, E25, D46, B73, C95, B38, B39, B22, C86, C70, A16, C101, C68, A10, E68, B41, A20, D19, D50, D9, A23, B50, A26, D48, E58, C126, B71, B51 B53 B55, D49, B5, B20, F G63, C62 C64, E24, C90, C45, E8, B101, D45, C46, D30, E121, D11, E77, F38, B3, D6, B82 B84, D17, A36, B102, B69, E49, C47, D28, E17, A24, C50, B42, C148\n",
      "Count of nans: 687\n",
      "Correlation with Survived: -0.316911523112\n",
      "Correlation with Survived Cabin A: 0.0222869538113\n",
      "Correlation with Survived Cabin B: 0.17509503365\n",
      "Correlation with Survived Cabin C: 0.114652115433\n",
      "Correlation with Survived Cabin D: 0.15071564423\n",
      "Correlation with Survived Cabin E: 0.15071564423\n",
      "Correlation with Survived Cabin F: 0.0579349470208\n",
      "Correlation with Survived Cabin G: -0.0179546541664\n",
      "Count of rows with A: 15\n",
      "Count of rows with B: 47\n",
      "Count of rows with C: 59\n",
      "Count of rows with D: 33\n",
      "Count of rows with E: 33\n",
      "Count of rows with F: 13\n",
      "Count of rows with G: 7\n"
     ]
    }
   ],
   "source": [
    "cabin = train_df.Cabin.astype(str)\n",
    "print('Number of unique values: {}'.format(cabin.nunique()))\n",
    "print('First 5 values\\n{}'.format(', '.join(cabin.unique())))\n",
    "print('Count of nans: {}'.format(train_df.Cabin.isnull().sum()))\n",
    "print('Correlation with Survived: {}'.format(pearsonr(train_df['Survived'], train_df.Cabin.isnull())[0]))\n",
    "\n",
    "for cv in ['A', 'B', 'C', 'D', 'E', 'F', 'G']:\n",
    "  print('Correlation with Survived Cabin {cv}: {corr}'\n",
    "        .format(cv=cv, corr=pearsonr(train_df['Survived'], cabin.str.contains(cv))[0]))\n",
    "\n",
    "for cv in ['A', 'B', 'C', 'D', 'E', 'F', 'G']:\n",
    "  print('Count of rows with {cv}: {ct}'.format(cv=cv, ct=cabin.str.contains(cv).sum()))"
   ]
  },
  {
   "cell_type": "markdown",
   "metadata": {},
   "source": [
    "## Embarked\n",
    "Some correlation between the S and C cabins and Survivied.  \n",
    "\n",
    "Worth dummifying."
   ]
  },
  {
   "cell_type": "code",
   "execution_count": 190,
   "metadata": {
    "collapsed": false
   },
   "outputs": [
    {
     "name": "stdout",
     "output_type": "stream",
     "text": [
      "Number of unique values: 3\n",
      "Count of each value\n",
      "S    644\n",
      "C    168\n",
      "Q     77\n",
      "Name: Embarked, dtype: int64\n",
      "Count of nans: 2\n",
      "Correlation with Survived Cabin S: -0.155660273404\n",
      "Correlation with Survived Cabin C: 0.168240431218\n",
      "Correlation with Survived Cabin Q: 0.00365038268397\n"
     ]
    }
   ],
   "source": [
    "emb = train_df.Embarked.astype(str)\n",
    "\n",
    "print('Number of unique values: {}'.format(train_df.Embarked.nunique()))\n",
    "#print('Correlation with Survived: {}'.format(pearsonr(train_df['Survived'], train_df.Embarked)[0]))\n",
    "print('Count of each value\\n{}'.format(train_df.Embarked.value_counts()))\n",
    "print('Count of nans: {}'.format(train_df.Embarked.isnull().sum()))\n",
    "\n",
    "for cv in ['S', 'C', 'Q']:\n",
    "  print('Correlation with Survived Cabin {cv}: {corr}'\n",
    "        .format(cv=cv, corr=pearsonr(train_df['Survived'], emb.str.contains(cv))[0]))"
   ]
  },
  {
   "cell_type": "markdown",
   "metadata": {},
   "source": [
    "# Proposed Features\n",
    "\n",
    "## Columns to drop\n",
    "1. PassengerId\n",
    "2. Name\n",
    "3. Age\n",
    "4. SibSp\n",
    "5. Parch\n",
    "6. Ticket\n",
    "\n",
    "## Columns to keep + Transformations\n",
    "1. Survived (dependent variable)\n",
    "2. Pclass - dummify\n",
    "3. Sex - 1 if male, 0 if female\n",
    "4. Fare - Normalized\n",
    "5. Cabin - as 5 columns.  1 if nan, 1 each for if contains B, C, D, E\n",
    "6. Embarked - dummify without nan dummy column"
   ]
  },
  {
   "cell_type": "code",
   "execution_count": null,
   "metadata": {
    "collapsed": true
   },
   "outputs": [],
   "source": []
  }
 ],
 "metadata": {
  "kernelspec": {
   "display_name": "kaggle_titanic",
   "language": "python",
   "name": "kaggle_titanic"
  },
  "language_info": {
   "codemirror_mode": {
    "name": "ipython",
    "version": 2
   },
   "file_extension": ".py",
   "mimetype": "text/x-python",
   "name": "python",
   "nbconvert_exporter": "python",
   "pygments_lexer": "ipython2",
   "version": "2.7.11"
  }
 },
 "nbformat": 4,
 "nbformat_minor": 2
}
